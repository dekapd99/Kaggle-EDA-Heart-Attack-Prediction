{
 "cells": [
  {
   "cell_type": "markdown",
   "id": "7ac15f49",
   "metadata": {},
   "source": [
    "<h1 align=\"center\"> Kaggle-EDA-Prediksi-Serangan-Jantung </h1>"
   ]
  },
  {
   "cell_type": "markdown",
   "id": "c5b35dc4",
   "metadata": {},
   "source": [
    "### Daftar Isi Project\n",
    "1. [Pendahuluan](#1)\n",
    "    * 1.1 [Penelitian Topik Project](#2)"
   ]
  },
  {
   "cell_type": "markdown",
   "id": "dc8c1552",
   "metadata": {},
   "source": [
    "### 1. Pendahuluan <a id=1></a>"
   ]
  },
  {
   "cell_type": "markdown",
   "id": "2dce32e1",
   "metadata": {},
   "source": [
    "#### 1.1 Penelitian Topik Project <a id=2></a>\n",
    "\n",
    "#### Apa itu Serangan Jantung ?\n",
    "\n",
    "<div>\n",
    "    <img src=\"kenny-eliason-unsplash.jpg\" width=\"500\"/>\n",
    "</div>"
   ]
  },
  {
   "cell_type": "code",
   "execution_count": 5,
   "id": "d8589bbe",
   "metadata": {},
   "outputs": [
    {
     "ename": "ModuleNotFoundError",
     "evalue": "No module named 'numpy'",
     "output_type": "error",
     "traceback": [
      "\u001b[0;31m---------------------------------------------------------------------------\u001b[0m",
      "\u001b[0;31mModuleNotFoundError\u001b[0m                       Traceback (most recent call last)",
      "Input \u001b[0;32mIn [5]\u001b[0m, in \u001b[0;36m<cell line: 3>\u001b[0;34m()\u001b[0m\n\u001b[1;32m      1\u001b[0m \u001b[38;5;66;03m# Import Library\u001b[39;00m\n\u001b[0;32m----> 3\u001b[0m \u001b[38;5;28;01mimport\u001b[39;00m \u001b[38;5;21;01mnumpy\u001b[39;00m \u001b[38;5;28;01mas\u001b[39;00m \u001b[38;5;21;01mnp\u001b[39;00m\n\u001b[1;32m      4\u001b[0m \u001b[38;5;28;01mimport\u001b[39;00m \u001b[38;5;21;01mpandas\u001b[39;00m \u001b[38;5;28;01mas\u001b[39;00m \u001b[38;5;21;01mpd\u001b[39;00m\n\u001b[1;32m      6\u001b[0m \u001b[38;5;28;01mimport\u001b[39;00m \u001b[38;5;21;01mwarnings\u001b[39;00m\n",
      "\u001b[0;31mModuleNotFoundError\u001b[0m: No module named 'numpy'"
     ]
    }
   ],
   "source": [
    "# Import Library\n",
    "\n",
    "import numpy as np\n",
    "import pandas as pd\n",
    "        \n",
    "import warnings\n",
    "warnings.filterwarnings(\"ignore\")\n",
    "\n",
    "import warnings\n",
    "warnings.filterwarnings(\"ignore\")\n",
    "\n",
    "import matplotlib.pyplot as plt\n",
    "import seaborn as sns"
   ]
  },
  {
   "cell_type": "code",
   "execution_count": null,
   "id": "d9fbdb98",
   "metadata": {},
   "outputs": [],
   "source": []
  }
 ],
 "metadata": {
  "kernelspec": {
   "display_name": "Python 3 (ipykernel)",
   "language": "python",
   "name": "python3"
  },
  "language_info": {
   "codemirror_mode": {
    "name": "ipython",
    "version": 3
   },
   "file_extension": ".py",
   "mimetype": "text/x-python",
   "name": "python",
   "nbconvert_exporter": "python",
   "pygments_lexer": "ipython3",
   "version": "3.9.12"
  }
 },
 "nbformat": 4,
 "nbformat_minor": 5
}
